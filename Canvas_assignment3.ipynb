{
 "cells": [
  {
   "cell_type": "code",
   "execution_count": 1,
   "metadata": {},
   "outputs": [
    {
     "name": "stdout",
     "output_type": "stream",
     "text": [
      "division by zero\n"
     ]
    }
   ],
   "source": [
    "def compute():\n",
    "    try:\n",
    "        num = 5\n",
    "        result = num/0\n",
    "    except Exception as e:\n",
    "        print(e)\n",
    "        \n",
    "compute()"
   ]
  },
  {
   "cell_type": "code",
   "execution_count": 2,
   "metadata": {},
   "outputs": [
    {
     "name": "stdout",
     "output_type": "stream",
     "text": [
      "Americans play Baseball \n",
      "Americans play Cricket \n",
      "Americans watch Baseball \n",
      "Americans watch Cricket \n",
      "indians play Baseball \n",
      "indians play Cricket \n",
      "indians watch Baseball \n",
      "indians watch Cricket \n"
     ]
    }
   ],
   "source": [
    "subject = [\"Americans\",\"indians\"]\n",
    "verbs = [\"play\",\"watch\"]\n",
    "objects = [\"Baseball\",\"Cricket\"]\n",
    "for s in subject:\n",
    "    for v in verbs:\n",
    "        for o in objects:\n",
    "            print (s,v,o,end = \" \")\n",
    "            print()"
   ]
  },
  {
   "cell_type": "code",
   "execution_count": null,
   "metadata": {},
   "outputs": [],
   "source": []
  }
 ],
 "metadata": {
  "kernelspec": {
   "display_name": "Python 3",
   "language": "python",
   "name": "python3"
  },
  "language_info": {
   "codemirror_mode": {
    "name": "ipython",
    "version": 3
   },
   "file_extension": ".py",
   "mimetype": "text/x-python",
   "name": "python",
   "nbconvert_exporter": "python",
   "pygments_lexer": "ipython3",
   "version": "3.7.6"
  }
 },
 "nbformat": 4,
 "nbformat_minor": 4
}
